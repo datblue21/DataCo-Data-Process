{
 "cells": [
  {
   "cell_type": "code",
   "execution_count": 1,
   "id": "abc7f26d",
   "metadata": {},
   "outputs": [],
   "source": [
    "with open(\"DataCoSupplyChainDataset.csv\", \"r\", encoding=\"latin1\") as source_file:\n",
    "    with open(\"DataCo_UTF8.csv\", \"w\", encoding=\"utf-8\") as target_file:\n",
    "        for line in source_file:\n",
    "            target_file.write(line)\n"
   ]
  }
 ],
 "metadata": {
  "kernelspec": {
   "display_name": ".venv",
   "language": "python",
   "name": "python3"
  },
  "language_info": {
   "codemirror_mode": {
    "name": "ipython",
    "version": 3
   },
   "file_extension": ".py",
   "mimetype": "text/x-python",
   "name": "python",
   "nbconvert_exporter": "python",
   "pygments_lexer": "ipython3",
   "version": "3.13.5"
  }
 },
 "nbformat": 4,
 "nbformat_minor": 5
}
